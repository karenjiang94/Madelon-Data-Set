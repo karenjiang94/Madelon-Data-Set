{
 "cells": [
  {
   "cell_type": "markdown",
   "metadata": {},
   "source": [
    "### Madelon Data Description\n",
    "\n",
    "The `madelon_param` file describes the parameters of the 3 data sets provided. It does not include the `train_data.label` set. "
   ]
  },
  {
   "cell_type": "code",
   "execution_count": 13,
   "metadata": {},
   "outputs": [
    {
     "data": {
      "text/html": [
       "<table>\n",
       "<thead><tr><th scope=col>V1</th></tr></thead>\n",
       "<tbody>\n",
       "\t<tr><td>Data type: non-sparse                    </td></tr>\n",
       "\t<tr><td>Number of features: 500                  </td></tr>\n",
       "\t<tr><td>Number of examples and check-sums:       </td></tr>\n",
       "\t<tr><td>     \tPos_ex\tNeg_ex\tTot_ex\tCheck_sum </td></tr>\n",
       "\t<tr><td>Train\t 1000\t 1000\t 2000\t488083511.00 </td></tr>\n",
       "\t<tr><td>Valid\t  300\t  300\t  600\t146395833.00 </td></tr>\n",
       "\t<tr><td>Test\t  900\t  900\t 1800\t439209553.00  </td></tr>\n",
       "\t<tr><td>All  \t 2200\t 2200\t 4400\t1073688897.00</td></tr>\n",
       "</tbody>\n",
       "</table>\n"
      ],
      "text/latex": [
       "\\begin{tabular}{r|l}\n",
       " V1\\\\\n",
       "\\hline\n",
       "\t Data type: non-sparse                    \\\\\n",
       "\t Number of features: 500                  \\\\\n",
       "\t Number of examples and check-sums:       \\\\\n",
       "\t      \tPos\\_ex\tNeg\\_ex\tTot\\_ex\tCheck\\_sum \\\\\n",
       "\t Train\t 1000\t 1000\t 2000\t488083511.00 \\\\\n",
       "\t Valid\t  300\t  300\t  600\t146395833.00 \\\\\n",
       "\t Test\t  900\t  900\t 1800\t439209553.00  \\\\\n",
       "\t All  \t 2200\t 2200\t 4400\t1073688897.00\\\\\n",
       "\\end{tabular}\n"
      ],
      "text/markdown": [
       "\n",
       "V1 | \n",
       "|---|---|---|---|---|---|---|---|\n",
       "| Data type: non-sparse                     | \n",
       "| Number of features: 500                   | \n",
       "| Number of examples and check-sums:        | \n",
       "|      \tPos_ex\tNeg_ex\tTot_ex\tCheck_sum  | \n",
       "| Train\t 1000\t 1000\t 2000\t488083511.00  | \n",
       "| Valid\t  300\t  300\t  600\t146395833.00  | \n",
       "| Test\t  900\t  900\t 1800\t439209553.00   | \n",
       "| All  \t 2200\t 2200\t 4400\t1073688897.00 | \n",
       "\n",
       "\n"
      ],
      "text/plain": [
       "  V1                                       \n",
       "1 Data type: non-sparse                    \n",
       "2 Number of features: 500                  \n",
       "3 Number of examples and check-sums:       \n",
       "4      \\tPos_ex\\tNeg_ex\\tTot_ex\\tCheck_sum \n",
       "5 Train\\t 1000\\t 1000\\t 2000\\t488083511.00 \n",
       "6 Valid\\t  300\\t  300\\t  600\\t146395833.00 \n",
       "7 Test\\t  900\\t  900\\t 1800\\t439209553.00  \n",
       "8 All  \\t 2200\\t 2200\\t 4400\\t1073688897.00"
      ]
     },
     "metadata": {},
     "output_type": "display_data"
    }
   ],
   "source": [
    "madelon_param <- read.csv('https://archive.ics.uci.edu/ml/machine-learning-databases/madelon/MADELON/madelon.param', header = FALSE)\n",
    "madelon_param"
   ]
  },
  {
   "cell_type": "code",
   "execution_count": 3,
   "metadata": {
    "scrolled": true
   },
   "outputs": [
    {
     "name": "stderr",
     "output_type": "stream",
     "text": [
      "Loading tidyverse: ggplot2\n",
      "Loading tidyverse: tibble\n",
      "Loading tidyverse: tidyr\n",
      "Loading tidyverse: readr\n",
      "Loading tidyverse: purrr\n",
      "Loading tidyverse: dplyr\n",
      "Conflicts with tidy packages ---------------------------------------------------\n",
      "filter(): dplyr, stats\n",
      "lag():    dplyr, stats\n",
      "Updating HTML index of packages in '.Library'\n",
      "Making 'packages.html' ... done\n",
      "\n",
      "Attaching package: ‘pryr’\n",
      "\n",
      "The following objects are masked from ‘package:purrr’:\n",
      "\n",
      "    compose, partial\n",
      "\n"
     ]
    }
   ],
   "source": [
    "library(tidyverse)\n",
    "library(ggplot2)\n",
    "install.packages(\"pryr\", repos = \"http://cran.us.r-project.org\")\n",
    "library(pryr)\n"
   ]
  },
  {
   "cell_type": "markdown",
   "metadata": {},
   "source": [
    "### Training Data Set\n",
    "\n",
    "The file is 4.05 MB. As a dense set, there are no NA values that exist. The sum of the data is shown to be `488083511` which matches the sum shown in the param file, verifying that we have correctly loaded our data."
   ]
  },
  {
   "cell_type": "code",
   "execution_count": 2,
   "metadata": {},
   "outputs": [
    {
     "data": {
      "text/html": [
       "<table>\n",
       "<thead><tr><th scope=col>V1</th><th scope=col>V2</th><th scope=col>V3</th><th scope=col>V4</th><th scope=col>V5</th><th scope=col>V6</th><th scope=col>V7</th><th scope=col>V8</th><th scope=col>V9</th><th scope=col>V10</th><th scope=col>⋯</th><th scope=col>V491</th><th scope=col>V492</th><th scope=col>V493</th><th scope=col>V494</th><th scope=col>V495</th><th scope=col>V496</th><th scope=col>V497</th><th scope=col>V498</th><th scope=col>V499</th><th scope=col>V500</th></tr></thead>\n",
       "<tbody>\n",
       "\t<tr><td>485</td><td>477</td><td>537</td><td>479</td><td>452</td><td>471</td><td>491</td><td>476</td><td>475</td><td>473</td><td>⋯  </td><td>477</td><td>481</td><td>477</td><td>485</td><td>511</td><td>485</td><td>481</td><td>479</td><td>475</td><td>496</td></tr>\n",
       "\t<tr><td>483</td><td>458</td><td>460</td><td>487</td><td>587</td><td>475</td><td>526</td><td>479</td><td>485</td><td>469</td><td>⋯  </td><td>463</td><td>478</td><td>487</td><td>338</td><td>513</td><td>486</td><td>483</td><td>492</td><td>510</td><td>517</td></tr>\n",
       "\t<tr><td>487</td><td>542</td><td>499</td><td>468</td><td>448</td><td>471</td><td>442</td><td>478</td><td>480</td><td>477</td><td>⋯  </td><td>487</td><td>481</td><td>492</td><td>650</td><td>506</td><td>501</td><td>480</td><td>489</td><td>499</td><td>498</td></tr>\n",
       "\t<tr><td>480</td><td>491</td><td>510</td><td>485</td><td>495</td><td>472</td><td>417</td><td>474</td><td>502</td><td>476</td><td>⋯  </td><td>491</td><td>480</td><td>474</td><td>572</td><td>454</td><td>469</td><td>475</td><td>482</td><td>494</td><td>461</td></tr>\n",
       "\t<tr><td>484</td><td>502</td><td>528</td><td>489</td><td>466</td><td>481</td><td>402</td><td>478</td><td>487</td><td>468</td><td>⋯  </td><td>488</td><td>479</td><td>452</td><td>435</td><td>486</td><td>508</td><td>481</td><td>504</td><td>495</td><td>511</td></tr>\n",
       "\t<tr><td>481</td><td>496</td><td>451</td><td>480</td><td>516</td><td>484</td><td>484</td><td>476</td><td>500</td><td>482</td><td>⋯  </td><td>478</td><td>481</td><td>477</td><td>435</td><td>491</td><td>564</td><td>482</td><td>463</td><td>457</td><td>500</td></tr>\n",
       "</tbody>\n",
       "</table>\n"
      ],
      "text/latex": [
       "\\begin{tabular}{r|llllllllllllllllllllllllllllllllllllllllllllllllllllllllllllllllllllllllllllllllllllllllllllllllllllllllllllllllllllllllllllllllllllllllllllllllllllllllllllllllllllllllllllllllllllllllllllllllllllllllllllllllllllllllllllllllllllllllllllllllllllllllllllllllllllllllllllllllllllllllllllllllllllllllllllllllllllllllllllllllllllllllllllllllllllllllllllllllllllllllllllllllllllllllllllllllllllllllllllllllllllllllllllllllllllllllllllllllllllllllllllllllllllllllllllllllllllllllllllllllllllllllllllllllllll}\n",
       " V1 & V2 & V3 & V4 & V5 & V6 & V7 & V8 & V9 & V10 & ⋯ & V491 & V492 & V493 & V494 & V495 & V496 & V497 & V498 & V499 & V500\\\\\n",
       "\\hline\n",
       "\t 485 & 477 & 537 & 479 & 452 & 471 & 491 & 476 & 475 & 473 & ⋯   & 477 & 481 & 477 & 485 & 511 & 485 & 481 & 479 & 475 & 496\\\\\n",
       "\t 483 & 458 & 460 & 487 & 587 & 475 & 526 & 479 & 485 & 469 & ⋯   & 463 & 478 & 487 & 338 & 513 & 486 & 483 & 492 & 510 & 517\\\\\n",
       "\t 487 & 542 & 499 & 468 & 448 & 471 & 442 & 478 & 480 & 477 & ⋯   & 487 & 481 & 492 & 650 & 506 & 501 & 480 & 489 & 499 & 498\\\\\n",
       "\t 480 & 491 & 510 & 485 & 495 & 472 & 417 & 474 & 502 & 476 & ⋯   & 491 & 480 & 474 & 572 & 454 & 469 & 475 & 482 & 494 & 461\\\\\n",
       "\t 484 & 502 & 528 & 489 & 466 & 481 & 402 & 478 & 487 & 468 & ⋯   & 488 & 479 & 452 & 435 & 486 & 508 & 481 & 504 & 495 & 511\\\\\n",
       "\t 481 & 496 & 451 & 480 & 516 & 484 & 484 & 476 & 500 & 482 & ⋯   & 478 & 481 & 477 & 435 & 491 & 564 & 482 & 463 & 457 & 500\\\\\n",
       "\\end{tabular}\n"
      ],
      "text/markdown": [
       "\n",
       "V1 | V2 | V3 | V4 | V5 | V6 | V7 | V8 | V9 | V10 | ⋯ | V491 | V492 | V493 | V494 | V495 | V496 | V497 | V498 | V499 | V500 | \n",
       "|---|---|---|---|---|---|\n",
       "| 485 | 477 | 537 | 479 | 452 | 471 | 491 | 476 | 475 | 473 | ⋯   | 477 | 481 | 477 | 485 | 511 | 485 | 481 | 479 | 475 | 496 | \n",
       "| 483 | 458 | 460 | 487 | 587 | 475 | 526 | 479 | 485 | 469 | ⋯   | 463 | 478 | 487 | 338 | 513 | 486 | 483 | 492 | 510 | 517 | \n",
       "| 487 | 542 | 499 | 468 | 448 | 471 | 442 | 478 | 480 | 477 | ⋯   | 487 | 481 | 492 | 650 | 506 | 501 | 480 | 489 | 499 | 498 | \n",
       "| 480 | 491 | 510 | 485 | 495 | 472 | 417 | 474 | 502 | 476 | ⋯   | 491 | 480 | 474 | 572 | 454 | 469 | 475 | 482 | 494 | 461 | \n",
       "| 484 | 502 | 528 | 489 | 466 | 481 | 402 | 478 | 487 | 468 | ⋯   | 488 | 479 | 452 | 435 | 486 | 508 | 481 | 504 | 495 | 511 | \n",
       "| 481 | 496 | 451 | 480 | 516 | 484 | 484 | 476 | 500 | 482 | ⋯   | 478 | 481 | 477 | 435 | 491 | 564 | 482 | 463 | 457 | 500 | \n",
       "\n",
       "\n"
      ],
      "text/plain": [
       "  V1  V2  V3  V4  V5  V6  V7  V8  V9  V10 ⋯ V491 V492 V493 V494 V495 V496 V497\n",
       "1 485 477 537 479 452 471 491 476 475 473 ⋯ 477  481  477  485  511  485  481 \n",
       "2 483 458 460 487 587 475 526 479 485 469 ⋯ 463  478  487  338  513  486  483 \n",
       "3 487 542 499 468 448 471 442 478 480 477 ⋯ 487  481  492  650  506  501  480 \n",
       "4 480 491 510 485 495 472 417 474 502 476 ⋯ 491  480  474  572  454  469  475 \n",
       "5 484 502 528 489 466 481 402 478 487 468 ⋯ 488  479  452  435  486  508  481 \n",
       "6 481 496 451 480 516 484 484 476 500 482 ⋯ 478  481  477  435  491  564  482 \n",
       "  V498 V499 V500\n",
       "1 479  475  496 \n",
       "2 492  510  517 \n",
       "3 489  499  498 \n",
       "4 482  494  461 \n",
       "5 504  495  511 \n",
       "6 463  457  500 "
      ]
     },
     "metadata": {},
     "output_type": "display_data"
    },
    {
     "ename": "ERROR",
     "evalue": "Error in eval(expr, envir, enclos): could not find function \"object_size\"\n",
     "output_type": "error",
     "traceback": [
      "Error in eval(expr, envir, enclos): could not find function \"object_size\"\nTraceback:\n"
     ]
    }
   ],
   "source": [
    "MadTrainURL <- \"http://archive.ics.uci.edu/ml/machine-learning-databases/madelon/MADELON/madelon_train.data\"\n",
    "MadTrain <- read.csv(url(MadTrainURL), sep = \"\", header = FALSE)\n",
    "head(MadTrain)\n",
    "object_size(MadTrain)\n",
    "sum(is.na(MadTrain))\n",
    "plot(density(data.matrix(MadTrain)))\n",
    "sum(MadTrain)"
   ]
  },
  {
   "cell_type": "markdown",
   "metadata": {},
   "source": [
    "### Training Labels Set \n",
    "\n",
    "This set provides the correct labels (either +1 or -1) for the above set. It is bimodal with equal modes, due to the artifical nature of the dataset. "
   ]
  },
  {
   "cell_type": "code",
   "execution_count": 10,
   "metadata": {},
   "outputs": [
    {
     "data": {
      "text/html": [
       "<table>\n",
       "<thead><tr><th scope=col>V1</th></tr></thead>\n",
       "<tbody>\n",
       "\t<tr><td>-1</td></tr>\n",
       "\t<tr><td>-1</td></tr>\n",
       "\t<tr><td>-1</td></tr>\n",
       "\t<tr><td> 1</td></tr>\n",
       "\t<tr><td> 1</td></tr>\n",
       "\t<tr><td> 1</td></tr>\n",
       "</tbody>\n",
       "</table>\n"
      ],
      "text/latex": [
       "\\begin{tabular}{r|l}\n",
       " V1\\\\\n",
       "\\hline\n",
       "\t -1\\\\\n",
       "\t -1\\\\\n",
       "\t -1\\\\\n",
       "\t  1\\\\\n",
       "\t  1\\\\\n",
       "\t  1\\\\\n",
       "\\end{tabular}\n"
      ],
      "text/markdown": [
       "\n",
       "V1 | \n",
       "|---|---|---|---|---|---|\n",
       "| -1 | \n",
       "| -1 | \n",
       "| -1 | \n",
       "|  1 | \n",
       "|  1 | \n",
       "|  1 | \n",
       "\n",
       "\n"
      ],
      "text/plain": [
       "  V1\n",
       "1 -1\n",
       "2 -1\n",
       "3 -1\n",
       "4  1\n",
       "5  1\n",
       "6  1"
      ]
     },
     "metadata": {},
     "output_type": "display_data"
    },
    {
     "data": {
      "text/plain": [
       "8.67 kB"
      ]
     },
     "metadata": {},
     "output_type": "display_data"
    },
    {
     "data": {
      "text/html": [
       "0"
      ],
      "text/latex": [
       "0"
      ],
      "text/markdown": [
       "0"
      ],
      "text/plain": [
       "[1] 0"
      ]
     },
     "metadata": {},
     "output_type": "display_data"
    },
    {
     "data": {
      "image/png": "[encoded data removed]",
      "text/plain": [
       "Plot with title “Histogram of data.matrix(MadLabels)”"
      ]
     },
     "metadata": {},
     "output_type": "display_data"
    }
   ],
   "source": [
    "MadLabelsURL <- \"http://archive.ics.uci.edu/ml/machine-learning-databases/madelon/MADELON/madelon_train.labels\"\n",
    "MadLabels <- read.csv(url(MadLabelsURL), sep = \"\", header = FALSE)\n",
    "head(MadLabels)\n",
    "object_size(MadLabels)\n",
    "sum(is.na(MadLabels))\n",
    "hist(data.matrix(MadLabels))"
   ]
  },
  {
   "cell_type": "markdown",
   "metadata": {},
   "source": [
    "### Validation Data Set\n",
    "\n",
    "The validation set consists of 300 positive examples and 300 negative examples. This set is created for the NIPS competition, to validate the model prior to testing/evalutation. The validation labels were released after the competition ended."
   ]
  },
  {
   "cell_type": "code",
   "execution_count": 4,
   "metadata": {},
   "outputs": [
    {
     "data": {
      "text/html": [
       "<table>\n",
       "<thead><tr><th scope=col>V1</th><th scope=col>V2</th><th scope=col>V3</th><th scope=col>V4</th><th scope=col>V5</th><th scope=col>V6</th><th scope=col>V7</th><th scope=col>V8</th><th scope=col>V9</th><th scope=col>V10</th><th scope=col>⋯</th><th scope=col>V491</th><th scope=col>V492</th><th scope=col>V493</th><th scope=col>V494</th><th scope=col>V495</th><th scope=col>V496</th><th scope=col>V497</th><th scope=col>V498</th><th scope=col>V499</th><th scope=col>V500</th></tr></thead>\n",
       "<tbody>\n",
       "\t<tr><td>483</td><td>454</td><td>513</td><td>495</td><td>523</td><td>469</td><td>453</td><td>477</td><td>506</td><td>479</td><td>⋯  </td><td>455</td><td>480</td><td>543</td><td>259</td><td>413</td><td>520</td><td>485</td><td>498</td><td>523</td><td>510</td></tr>\n",
       "\t<tr><td>485</td><td>508</td><td>493</td><td>487</td><td>478</td><td>472</td><td>504</td><td>476</td><td>479</td><td>475</td><td>⋯  </td><td>486</td><td>480</td><td>535</td><td>534</td><td>514</td><td>452</td><td>484</td><td>495</td><td>548</td><td>477</td></tr>\n",
       "\t<tr><td>483</td><td>521</td><td>507</td><td>475</td><td>493</td><td>486</td><td>421</td><td>475</td><td>496</td><td>483</td><td>⋯  </td><td>491</td><td>476</td><td>498</td><td>495</td><td>508</td><td>528</td><td>486</td><td>465</td><td>508</td><td>503</td></tr>\n",
       "\t<tr><td>474</td><td>504</td><td>576</td><td>480</td><td>553</td><td>483</td><td>524</td><td>478</td><td>483</td><td>483</td><td>⋯  </td><td>521</td><td>475</td><td>470</td><td>463</td><td>509</td><td>525</td><td>479</td><td>467</td><td>552</td><td>517</td></tr>\n",
       "\t<tr><td>495</td><td>474</td><td>523</td><td>479</td><td>495</td><td>488</td><td>485</td><td>476</td><td>497</td><td>478</td><td>⋯  </td><td>510</td><td>471</td><td>522</td><td>343</td><td>509</td><td>520</td><td>475</td><td>493</td><td>506</td><td>491</td></tr>\n",
       "\t<tr><td>474</td><td>507</td><td>504</td><td>495</td><td>428</td><td>490</td><td>498</td><td>478</td><td>511</td><td>482</td><td>⋯  </td><td>487</td><td>476</td><td>492</td><td>503</td><td>410</td><td>573</td><td>477</td><td>461</td><td>532</td><td>520</td></tr>\n",
       "</tbody>\n",
       "</table>\n"
      ],
      "text/latex": [
       "\\begin{tabular}{r|llllllllllllllllllllllllllllllllllllllllllllllllllllllllllllllllllllllllllllllllllllllllllllllllllllllllllllllllllllllllllllllllllllllllllllllllllllllllllllllllllllllllllllllllllllllllllllllllllllllllllllllllllllllllllllllllllllllllllllllllllllllllllllllllllllllllllllllllllllllllllllllllllllllllllllllllllllllllllllllllllllllllllllllllllllllllllllllllllllllllllllllllllllllllllllllllllllllllllllllllllllllllllllllllllllllllllllllllllllllllllllllllllllllllllllllllllllllllllllllllllllllllllllllllllll}\n",
       " V1 & V2 & V3 & V4 & V5 & V6 & V7 & V8 & V9 & V10 & ⋯ & V491 & V492 & V493 & V494 & V495 & V496 & V497 & V498 & V499 & V500\\\\\n",
       "\\hline\n",
       "\t 483 & 454 & 513 & 495 & 523 & 469 & 453 & 477 & 506 & 479 & ⋯   & 455 & 480 & 543 & 259 & 413 & 520 & 485 & 498 & 523 & 510\\\\\n",
       "\t 485 & 508 & 493 & 487 & 478 & 472 & 504 & 476 & 479 & 475 & ⋯   & 486 & 480 & 535 & 534 & 514 & 452 & 484 & 495 & 548 & 477\\\\\n",
       "\t 483 & 521 & 507 & 475 & 493 & 486 & 421 & 475 & 496 & 483 & ⋯   & 491 & 476 & 498 & 495 & 508 & 528 & 486 & 465 & 508 & 503\\\\\n",
       "\t 474 & 504 & 576 & 480 & 553 & 483 & 524 & 478 & 483 & 483 & ⋯   & 521 & 475 & 470 & 463 & 509 & 525 & 479 & 467 & 552 & 517\\\\\n",
       "\t 495 & 474 & 523 & 479 & 495 & 488 & 485 & 476 & 497 & 478 & ⋯   & 510 & 471 & 522 & 343 & 509 & 520 & 475 & 493 & 506 & 491\\\\\n",
       "\t 474 & 507 & 504 & 495 & 428 & 490 & 498 & 478 & 511 & 482 & ⋯   & 487 & 476 & 492 & 503 & 410 & 573 & 477 & 461 & 532 & 520\\\\\n",
       "\\end{tabular}\n"
      ],
      "text/markdown": [
       "\n",
       "V1 | V2 | V3 | V4 | V5 | V6 | V7 | V8 | V9 | V10 | ⋯ | V491 | V492 | V493 | V494 | V495 | V496 | V497 | V498 | V499 | V500 | \n",
       "|---|---|---|---|---|---|\n",
       "| 483 | 454 | 513 | 495 | 523 | 469 | 453 | 477 | 506 | 479 | ⋯   | 455 | 480 | 543 | 259 | 413 | 520 | 485 | 498 | 523 | 510 | \n",
       "| 485 | 508 | 493 | 487 | 478 | 472 | 504 | 476 | 479 | 475 | ⋯   | 486 | 480 | 535 | 534 | 514 | 452 | 484 | 495 | 548 | 477 | \n",
       "| 483 | 521 | 507 | 475 | 493 | 486 | 421 | 475 | 496 | 483 | ⋯   | 491 | 476 | 498 | 495 | 508 | 528 | 486 | 465 | 508 | 503 | \n",
       "| 474 | 504 | 576 | 480 | 553 | 483 | 524 | 478 | 483 | 483 | ⋯   | 521 | 475 | 470 | 463 | 509 | 525 | 479 | 467 | 552 | 517 | \n",
       "| 495 | 474 | 523 | 479 | 495 | 488 | 485 | 476 | 497 | 478 | ⋯   | 510 | 471 | 522 | 343 | 509 | 520 | 475 | 493 | 506 | 491 | \n",
       "| 474 | 507 | 504 | 495 | 428 | 490 | 498 | 478 | 511 | 482 | ⋯   | 487 | 476 | 492 | 503 | 410 | 573 | 477 | 461 | 532 | 520 | \n",
       "\n",
       "\n"
      ],
      "text/plain": [
       "  V1  V2  V3  V4  V5  V6  V7  V8  V9  V10 ⋯ V491 V492 V493 V494 V495 V496 V497\n",
       "1 483 454 513 495 523 469 453 477 506 479 ⋯ 455  480  543  259  413  520  485 \n",
       "2 485 508 493 487 478 472 504 476 479 475 ⋯ 486  480  535  534  514  452  484 \n",
       "3 483 521 507 475 493 486 421 475 496 483 ⋯ 491  476  498  495  508  528  486 \n",
       "4 474 504 576 480 553 483 524 478 483 483 ⋯ 521  475  470  463  509  525  479 \n",
       "5 495 474 523 479 495 488 485 476 497 478 ⋯ 510  471  522  343  509  520  475 \n",
       "6 474 507 504 495 428 490 498 478 511 482 ⋯ 487  476  492  503  410  573  477 \n",
       "  V498 V499 V500\n",
       "1 498  523  510 \n",
       "2 495  548  477 \n",
       "3 465  508  503 \n",
       "4 467  552  517 \n",
       "5 493  506  491 \n",
       "6 461  532  520 "
      ]
     },
     "metadata": {},
     "output_type": "display_data"
    },
    {
     "data": {
      "text/plain": [
       "1.25 MB"
      ]
     },
     "metadata": {},
     "output_type": "display_data"
    },
    {
     "data": {
      "text/html": [
       "<ol class=list-inline>\n",
       "\t<li>600</li>\n",
       "\t<li>500</li>\n",
       "</ol>\n"
      ],
      "text/latex": [
       "\\begin{enumerate*}\n",
       "\\item 600\n",
       "\\item 500\n",
       "\\end{enumerate*}\n"
      ],
      "text/markdown": [
       "1. 600\n",
       "2. 500\n",
       "\n",
       "\n"
      ],
      "text/plain": [
       "[1] 600 500"
      ]
     },
     "metadata": {},
     "output_type": "display_data"
    },
    {
     "data": {
      "text/html": [
       "0"
      ],
      "text/latex": [
       "0"
      ],
      "text/markdown": [
       "0"
      ],
      "text/plain": [
       "[1] 0"
      ]
     },
     "metadata": {},
     "output_type": "display_data"
    },
    {
     "data": {
      "image/png": "[encoded data removed]",
      "text/plain": [
       "Plot with title “density.default(x = data.matrix(MadValid))”"
      ]
     },
     "metadata": {},
     "output_type": "display_data"
    }
   ],
   "source": [
    "MadValidURL <- \"http://archive.ics.uci.edu/ml/machine-learning-databases/madelon/MADELON/madelon_valid.data\"\n",
    "MadValid <- read.csv(url(MadValidURL), sep = \"\", header = FALSE)\n",
    "head(MadValid)\n",
    "object_size(MadValid)\n",
    "dim(MadValid)\n",
    "sum(is.na(MadValid))\n",
    "plot(density(data.matrix(MadValid)))\n",
    "\n"
   ]
  },
  {
   "cell_type": "markdown",
   "metadata": {},
   "source": [
    "### Testing Data Set\n",
    "\n",
    "The Testing dataset consists of 1800 rows, divided evenly into 900 positive examples and 900 negative examples. The labels for the Testing Data are still withheld, as entries are still open to being accepted. "
   ]
  },
  {
   "cell_type": "code",
   "execution_count": 5,
   "metadata": {},
   "outputs": [
    {
     "data": {
      "text/html": [
       "<table>\n",
       "<thead><tr><th scope=col>V1</th><th scope=col>V2</th><th scope=col>V3</th><th scope=col>V4</th><th scope=col>V5</th><th scope=col>V6</th><th scope=col>V7</th><th scope=col>V8</th><th scope=col>V9</th><th scope=col>V10</th><th scope=col>⋯</th><th scope=col>V491</th><th scope=col>V492</th><th scope=col>V493</th><th scope=col>V494</th><th scope=col>V495</th><th scope=col>V496</th><th scope=col>V497</th><th scope=col>V498</th><th scope=col>V499</th><th scope=col>V500</th></tr></thead>\n",
       "<tbody>\n",
       "\t<tr><td>483</td><td>460</td><td>559</td><td>477</td><td>462</td><td>491</td><td>499</td><td>475</td><td>495</td><td>479</td><td>⋯  </td><td>470</td><td>480</td><td>546</td><td>630</td><td>434</td><td>497</td><td>479</td><td>503</td><td>465</td><td>494</td></tr>\n",
       "\t<tr><td>484</td><td>509</td><td>538</td><td>473</td><td>548</td><td>497</td><td>551</td><td>477</td><td>498</td><td>471</td><td>⋯  </td><td>474</td><td>482</td><td>493</td><td>442</td><td>440</td><td>587</td><td>475</td><td>483</td><td>509</td><td>455</td></tr>\n",
       "\t<tr><td>476</td><td>529</td><td>558</td><td>477</td><td>505</td><td>486</td><td>545</td><td>477</td><td>473</td><td>480</td><td>⋯  </td><td>501</td><td>482</td><td>465</td><td>389</td><td>460</td><td>459</td><td>484</td><td>476</td><td>564</td><td>521</td></tr>\n",
       "\t<tr><td>487</td><td>475</td><td>480</td><td>494</td><td>477</td><td>472</td><td>512</td><td>477</td><td>486</td><td>480</td><td>⋯  </td><td>470</td><td>476</td><td>536</td><td>622</td><td>523</td><td>445</td><td>481</td><td>490</td><td>481</td><td>548</td></tr>\n",
       "\t<tr><td>486</td><td>490</td><td>480</td><td>471</td><td>520</td><td>481</td><td>437</td><td>476</td><td>484</td><td>482</td><td>⋯  </td><td>458</td><td>473</td><td>474</td><td>491</td><td>516</td><td>515</td><td>475</td><td>497</td><td>453</td><td>497</td></tr>\n",
       "\t<tr><td>481</td><td>465</td><td>520</td><td>478</td><td>532</td><td>472</td><td>506</td><td>476</td><td>498</td><td>488</td><td>⋯  </td><td>497</td><td>483</td><td>486</td><td>706</td><td>533</td><td>536</td><td>474</td><td>490</td><td>563</td><td>525</td></tr>\n",
       "</tbody>\n",
       "</table>\n"
      ],
      "text/latex": [
       "\\begin{tabular}{r|llllllllllllllllllllllllllllllllllllllllllllllllllllllllllllllllllllllllllllllllllllllllllllllllllllllllllllllllllllllllllllllllllllllllllllllllllllllllllllllllllllllllllllllllllllllllllllllllllllllllllllllllllllllllllllllllllllllllllllllllllllllllllllllllllllllllllllllllllllllllllllllllllllllllllllllllllllllllllllllllllllllllllllllllllllllllllllllllllllllllllllllllllllllllllllllllllllllllllllllllllllllllllllllllllllllllllllllllllllllllllllllllllllllllllllllllllllllllllllllllllllllllllllllllllll}\n",
       " V1 & V2 & V3 & V4 & V5 & V6 & V7 & V8 & V9 & V10 & ⋯ & V491 & V492 & V493 & V494 & V495 & V496 & V497 & V498 & V499 & V500\\\\\n",
       "\\hline\n",
       "\t 483 & 460 & 559 & 477 & 462 & 491 & 499 & 475 & 495 & 479 & ⋯   & 470 & 480 & 546 & 630 & 434 & 497 & 479 & 503 & 465 & 494\\\\\n",
       "\t 484 & 509 & 538 & 473 & 548 & 497 & 551 & 477 & 498 & 471 & ⋯   & 474 & 482 & 493 & 442 & 440 & 587 & 475 & 483 & 509 & 455\\\\\n",
       "\t 476 & 529 & 558 & 477 & 505 & 486 & 545 & 477 & 473 & 480 & ⋯   & 501 & 482 & 465 & 389 & 460 & 459 & 484 & 476 & 564 & 521\\\\\n",
       "\t 487 & 475 & 480 & 494 & 477 & 472 & 512 & 477 & 486 & 480 & ⋯   & 470 & 476 & 536 & 622 & 523 & 445 & 481 & 490 & 481 & 548\\\\\n",
       "\t 486 & 490 & 480 & 471 & 520 & 481 & 437 & 476 & 484 & 482 & ⋯   & 458 & 473 & 474 & 491 & 516 & 515 & 475 & 497 & 453 & 497\\\\\n",
       "\t 481 & 465 & 520 & 478 & 532 & 472 & 506 & 476 & 498 & 488 & ⋯   & 497 & 483 & 486 & 706 & 533 & 536 & 474 & 490 & 563 & 525\\\\\n",
       "\\end{tabular}\n"
      ],
      "text/markdown": [
       "\n",
       "V1 | V2 | V3 | V4 | V5 | V6 | V7 | V8 | V9 | V10 | ⋯ | V491 | V492 | V493 | V494 | V495 | V496 | V497 | V498 | V499 | V500 | \n",
       "|---|---|---|---|---|---|\n",
       "| 483 | 460 | 559 | 477 | 462 | 491 | 499 | 475 | 495 | 479 | ⋯   | 470 | 480 | 546 | 630 | 434 | 497 | 479 | 503 | 465 | 494 | \n",
       "| 484 | 509 | 538 | 473 | 548 | 497 | 551 | 477 | 498 | 471 | ⋯   | 474 | 482 | 493 | 442 | 440 | 587 | 475 | 483 | 509 | 455 | \n",
       "| 476 | 529 | 558 | 477 | 505 | 486 | 545 | 477 | 473 | 480 | ⋯   | 501 | 482 | 465 | 389 | 460 | 459 | 484 | 476 | 564 | 521 | \n",
       "| 487 | 475 | 480 | 494 | 477 | 472 | 512 | 477 | 486 | 480 | ⋯   | 470 | 476 | 536 | 622 | 523 | 445 | 481 | 490 | 481 | 548 | \n",
       "| 486 | 490 | 480 | 471 | 520 | 481 | 437 | 476 | 484 | 482 | ⋯   | 458 | 473 | 474 | 491 | 516 | 515 | 475 | 497 | 453 | 497 | \n",
       "| 481 | 465 | 520 | 478 | 532 | 472 | 506 | 476 | 498 | 488 | ⋯   | 497 | 483 | 486 | 706 | 533 | 536 | 474 | 490 | 563 | 525 | \n",
       "\n",
       "\n"
      ],
      "text/plain": [
       "  V1  V2  V3  V4  V5  V6  V7  V8  V9  V10 ⋯ V491 V492 V493 V494 V495 V496 V497\n",
       "1 483 460 559 477 462 491 499 475 495 479 ⋯ 470  480  546  630  434  497  479 \n",
       "2 484 509 538 473 548 497 551 477 498 471 ⋯ 474  482  493  442  440  587  475 \n",
       "3 476 529 558 477 505 486 545 477 473 480 ⋯ 501  482  465  389  460  459  484 \n",
       "4 487 475 480 494 477 472 512 477 486 480 ⋯ 470  476  536  622  523  445  481 \n",
       "5 486 490 480 471 520 481 437 476 484 482 ⋯ 458  473  474  491  516  515  475 \n",
       "6 481 465 520 478 532 472 506 476 498 488 ⋯ 497  483  486  706  533  536  474 \n",
       "  V498 V499 V500\n",
       "1 503  465  494 \n",
       "2 483  509  455 \n",
       "3 476  564  521 \n",
       "4 490  481  548 \n",
       "5 497  453  497 \n",
       "6 490  563  525 "
      ]
     },
     "metadata": {},
     "output_type": "display_data"
    },
    {
     "data": {
      "text/plain": [
       "3.65 MB"
      ]
     },
     "metadata": {},
     "output_type": "display_data"
    },
    {
     "data": {
      "text/html": [
       "<ol class=list-inline>\n",
       "\t<li>1800</li>\n",
       "\t<li>500</li>\n",
       "</ol>\n"
      ],
      "text/latex": [
       "\\begin{enumerate*}\n",
       "\\item 1800\n",
       "\\item 500\n",
       "\\end{enumerate*}\n"
      ],
      "text/markdown": [
       "1. 1800\n",
       "2. 500\n",
       "\n",
       "\n"
      ],
      "text/plain": [
       "[1] 1800  500"
      ]
     },
     "metadata": {},
     "output_type": "display_data"
    },
    {
     "data": {
      "text/html": [
       "0"
      ],
      "text/latex": [
       "0"
      ],
      "text/markdown": [
       "0"
      ],
      "text/plain": [
       "[1] 0"
      ]
     },
     "metadata": {},
     "output_type": "display_data"
    },
    {
     "data": {
      "image/png": "[encoded data removed]",
      "text/plain": [
       "Plot with title “density.default(x = data.matrix(MadTest))”"
      ]
     },
     "metadata": {},
     "output_type": "display_data"
    }
   ],
   "source": [
    "\n",
    "MadTestURL <- \"http://archive.ics.uci.edu/ml/machine-learning-databases/madelon/MADELON/madelon_test.data\"\n",
    "MadTest <- read.csv(url(MadTestURL), sep = \"\", header = FALSE)\n",
    "head(MadTest)\n",
    "object_size(MadTest)\n",
    "dim(MadTest)\n",
    "sum(is.na(MadTest))\n",
    "plot(density(data.matrix(MadTest)))"
   ]
  },
  {
   "cell_type": "code",
   "execution_count": null,
   "metadata": {},
   "outputs": [],
   "source": []
  }
 ],
 "metadata": {
  "kernelspec": {
   "display_name": "R",
   "language": "R",
   "name": "ir"
  },
  "language_info": {
   "codemirror_mode": "r",
   "file_extension": ".r",
   "mimetype": "text/x-r-source",
   "name": "R",
   "pygments_lexer": "r",
   "version": "3.3.2"
  }
 },
 "nbformat": 4,
 "nbformat_minor": 2
}

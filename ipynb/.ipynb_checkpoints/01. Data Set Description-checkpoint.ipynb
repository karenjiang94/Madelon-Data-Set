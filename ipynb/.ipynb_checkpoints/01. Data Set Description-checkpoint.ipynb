{
 "cells": [
  {
   "cell_type": "code",
   "execution_count": 28,
   "metadata": {},
   "outputs": [],
   "source": [
    "# Open data set\n",
    "madelonURL <- \"http://archive.ics.uci.edu/ml/machine-learning-databases/madelon/MADELON/madelon_train.data\"\n",
    "data <- read.csv(url(madelonURL), sep = \" \", header = FALSE)\n",
    "data$V501 <- NULL\n",
    "head(data)"
   ]
  },
  {
   "cell_type": "code",
   "execution_count": 29,
   "metadata": {},
   "outputs": [
    {
     "data": {
      "text/html": [
       "<ol class=list-inline>\n",
       "\t<li>2000</li>\n",
       "\t<li>500</li>\n",
       "</ol>\n"
      ],
      "text/latex": [
       "\\begin{enumerate*}\n",
       "\\item 2000\n",
       "\\item 500\n",
       "\\end{enumerate*}\n"
      ],
      "text/markdown": [
       "1. 2000\n",
       "2. 500\n",
       "\n",
       "\n"
      ],
      "text/plain": [
       "[1] 2000  500"
      ]
     },
     "metadata": {},
     "output_type": "display_data"
    },
    {
     "data": {
      "text/html": [
       "<table>\n",
       "<thead><tr><th scope=col>V1</th><th scope=col>V2</th><th scope=col>V3</th><th scope=col>V4</th><th scope=col>V5</th><th scope=col>V6</th><th scope=col>V7</th><th scope=col>V8</th><th scope=col>V9</th><th scope=col>V10</th><th scope=col>⋯</th><th scope=col>V491</th><th scope=col>V492</th><th scope=col>V493</th><th scope=col>V494</th><th scope=col>V495</th><th scope=col>V496</th><th scope=col>V497</th><th scope=col>V498</th><th scope=col>V499</th><th scope=col>V500</th></tr></thead>\n",
       "<tbody>\n",
       "\t<tr><td>485</td><td>477</td><td>537</td><td>479</td><td>452</td><td>471</td><td>491</td><td>476</td><td>475</td><td>473</td><td>⋯  </td><td>477</td><td>481</td><td>477</td><td>485</td><td>511</td><td>485</td><td>481</td><td>479</td><td>475</td><td>496</td></tr>\n",
       "\t<tr><td>483</td><td>458</td><td>460</td><td>487</td><td>587</td><td>475</td><td>526</td><td>479</td><td>485</td><td>469</td><td>⋯  </td><td>463</td><td>478</td><td>487</td><td>338</td><td>513</td><td>486</td><td>483</td><td>492</td><td>510</td><td>517</td></tr>\n",
       "\t<tr><td>487</td><td>542</td><td>499</td><td>468</td><td>448</td><td>471</td><td>442</td><td>478</td><td>480</td><td>477</td><td>⋯  </td><td>487</td><td>481</td><td>492</td><td>650</td><td>506</td><td>501</td><td>480</td><td>489</td><td>499</td><td>498</td></tr>\n",
       "\t<tr><td>480</td><td>491</td><td>510</td><td>485</td><td>495</td><td>472</td><td>417</td><td>474</td><td>502</td><td>476</td><td>⋯  </td><td>491</td><td>480</td><td>474</td><td>572</td><td>454</td><td>469</td><td>475</td><td>482</td><td>494</td><td>461</td></tr>\n",
       "\t<tr><td>484</td><td>502</td><td>528</td><td>489</td><td>466</td><td>481</td><td>402</td><td>478</td><td>487</td><td>468</td><td>⋯  </td><td>488</td><td>479</td><td>452</td><td>435</td><td>486</td><td>508</td><td>481</td><td>504</td><td>495</td><td>511</td></tr>\n",
       "\t<tr><td>481</td><td>496</td><td>451</td><td>480</td><td>516</td><td>484</td><td>484</td><td>476</td><td>500</td><td>482</td><td>⋯  </td><td>478</td><td>481</td><td>477</td><td>435</td><td>491</td><td>564</td><td>482</td><td>463</td><td>457</td><td>500</td></tr>\n",
       "</tbody>\n",
       "</table>\n"
      ],
      "text/latex": [
       "\\begin{tabular}{r|llllllllllllllllllllllllllllllllllllllllllllllllllllllllllllllllllllllllllllllllllllllllllllllllllllllllllllllllllllllllllllllllllllllllllllllllllllllllllllllllllllllllllllllllllllllllllllllllllllllllllllllllllllllllllllllllllllllllllllllllllllllllllllllllllllllllllllllllllllllllllllllllllllllllllllllllllllllllllllllllllllllllllllllllllllllllllllllllllllllllllllllllllllllllllllllllllllllllllllllllllllllllllllllllllllllllllllllllllllllllllllllllllllllllllllllllllllllllllllllllllllllllllllllllllll}\n",
       " V1 & V2 & V3 & V4 & V5 & V6 & V7 & V8 & V9 & V10 & ⋯ & V491 & V492 & V493 & V494 & V495 & V496 & V497 & V498 & V499 & V500\\\\\n",
       "\\hline\n",
       "\t 485 & 477 & 537 & 479 & 452 & 471 & 491 & 476 & 475 & 473 & ⋯   & 477 & 481 & 477 & 485 & 511 & 485 & 481 & 479 & 475 & 496\\\\\n",
       "\t 483 & 458 & 460 & 487 & 587 & 475 & 526 & 479 & 485 & 469 & ⋯   & 463 & 478 & 487 & 338 & 513 & 486 & 483 & 492 & 510 & 517\\\\\n",
       "\t 487 & 542 & 499 & 468 & 448 & 471 & 442 & 478 & 480 & 477 & ⋯   & 487 & 481 & 492 & 650 & 506 & 501 & 480 & 489 & 499 & 498\\\\\n",
       "\t 480 & 491 & 510 & 485 & 495 & 472 & 417 & 474 & 502 & 476 & ⋯   & 491 & 480 & 474 & 572 & 454 & 469 & 475 & 482 & 494 & 461\\\\\n",
       "\t 484 & 502 & 528 & 489 & 466 & 481 & 402 & 478 & 487 & 468 & ⋯   & 488 & 479 & 452 & 435 & 486 & 508 & 481 & 504 & 495 & 511\\\\\n",
       "\t 481 & 496 & 451 & 480 & 516 & 484 & 484 & 476 & 500 & 482 & ⋯   & 478 & 481 & 477 & 435 & 491 & 564 & 482 & 463 & 457 & 500\\\\\n",
       "\\end{tabular}\n"
      ],
      "text/markdown": [
       "\n",
       "V1 | V2 | V3 | V4 | V5 | V6 | V7 | V8 | V9 | V10 | ⋯ | V491 | V492 | V493 | V494 | V495 | V496 | V497 | V498 | V499 | V500 | \n",
       "|---|---|---|---|---|---|\n",
       "| 485 | 477 | 537 | 479 | 452 | 471 | 491 | 476 | 475 | 473 | ⋯   | 477 | 481 | 477 | 485 | 511 | 485 | 481 | 479 | 475 | 496 | \n",
       "| 483 | 458 | 460 | 487 | 587 | 475 | 526 | 479 | 485 | 469 | ⋯   | 463 | 478 | 487 | 338 | 513 | 486 | 483 | 492 | 510 | 517 | \n",
       "| 487 | 542 | 499 | 468 | 448 | 471 | 442 | 478 | 480 | 477 | ⋯   | 487 | 481 | 492 | 650 | 506 | 501 | 480 | 489 | 499 | 498 | \n",
       "| 480 | 491 | 510 | 485 | 495 | 472 | 417 | 474 | 502 | 476 | ⋯   | 491 | 480 | 474 | 572 | 454 | 469 | 475 | 482 | 494 | 461 | \n",
       "| 484 | 502 | 528 | 489 | 466 | 481 | 402 | 478 | 487 | 468 | ⋯   | 488 | 479 | 452 | 435 | 486 | 508 | 481 | 504 | 495 | 511 | \n",
       "| 481 | 496 | 451 | 480 | 516 | 484 | 484 | 476 | 500 | 482 | ⋯   | 478 | 481 | 477 | 435 | 491 | 564 | 482 | 463 | 457 | 500 | \n",
       "\n",
       "\n"
      ],
      "text/plain": [
       "  V1  V2  V3  V4  V5  V6  V7  V8  V9  V10 ⋯ V491 V492 V493 V494 V495 V496 V497\n",
       "1 485 477 537 479 452 471 491 476 475 473 ⋯ 477  481  477  485  511  485  481 \n",
       "2 483 458 460 487 587 475 526 479 485 469 ⋯ 463  478  487  338  513  486  483 \n",
       "3 487 542 499 468 448 471 442 478 480 477 ⋯ 487  481  492  650  506  501  480 \n",
       "4 480 491 510 485 495 472 417 474 502 476 ⋯ 491  480  474  572  454  469  475 \n",
       "5 484 502 528 489 466 481 402 478 487 468 ⋯ 488  479  452  435  486  508  481 \n",
       "6 481 496 451 480 516 484 484 476 500 482 ⋯ 478  481  477  435  491  564  482 \n",
       "  V498 V499 V500\n",
       "1 479  475  496 \n",
       "2 492  510  517 \n",
       "3 489  499  498 \n",
       "4 482  494  461 \n",
       "5 504  495  511 \n",
       "6 463  457  500 "
      ]
     },
     "metadata": {},
     "output_type": "display_data"
    }
   ],
   "source": [
    "# Size of data set\n",
    "dim(data)"
   ]
  },
  {
   "cell_type": "code",
   "execution_count": 44,
   "metadata": {},
   "outputs": [
    {
     "name": "stdout",
     "output_type": "stream",
     "text": [
      "'data.frame':\t6 obs. of  500 variables:\n",
      " $ V1  : int  485 483 487 480 484 481\n",
      " $ V2  : int  477 458 542 491 502 496\n",
      " $ V3  : int  537 460 499 510 528 451\n",
      " $ V4  : int  479 487 468 485 489 480\n",
      " $ V5  : int  452 587 448 495 466 516\n",
      " $ V6  : int  471 475 471 472 481 484\n",
      " $ V7  : int  491 526 442 417 402 484\n",
      " $ V8  : int  476 479 478 474 478 476\n",
      " $ V9  : int  475 485 480 502 487 500\n",
      " $ V10 : int  473 469 477 476 468 482\n",
      " $ V11 : int  455 434 468 455 432 453\n",
      " $ V12 : int  500 483 497 520 494 474\n",
      " $ V13 : int  456 465 477 437 493 517\n",
      " $ V14 : int  507 503 491 472 434 483\n",
      " $ V15 : int  478 472 493 481 505 480\n",
      " $ V16 : int  491 478 502 436 497 520\n",
      " $ V17 : int  447 469 465 503 486 494\n",
      " $ V18 : int  422 518 567 522 471 493\n",
      " $ V19 : int  480 495 510 488 467 492\n",
      " $ V20 : int  482 491 475 468 476 490\n",
      " $ V21 : int  515 478 474 492 455 485\n",
      " $ V22 : int  482 530 483 488 517 469\n",
      " $ V23 : int  464 462 490 476 483 481\n",
      " $ V24 : int  484 494 492 479 465 463\n",
      " $ V25 : int  477 549 544 477 512 487\n",
      " $ V26 : int  496 469 482 485 552 484\n",
      " $ V27 : int  509 516 454 506 505 494\n",
      " $ V28 : int  491 487 496 476 464 460\n",
      " $ V29 : int  459 475 491 472 472 505\n",
      " $ V30 : int  482 486 495 506 419 527\n",
      " $ V31 : int  483 478 476 479 479 488\n",
      " $ V32 : int  505 514 438 472 543 527\n",
      " $ V33 : int  508 542 489 504 491 498\n",
      " $ V34 : int  458 406 432 553 488 495\n",
      " $ V35 : int  509 469 486 492 446 468\n",
      " $ V36 : int  517 452 512 494 563 498\n",
      " $ V37 : int  479 483 475 464 471 468\n",
      " $ V38 : int  487 498 476 448 457 516\n",
      " $ V39 : int  473 480 480 486 475 474\n",
      " $ V40 : int  472 476 476 476 478 475\n",
      " $ V41 : int  474 474 477 475 473 479\n",
      " $ V42 : int  531 504 516 438 539 498\n",
      " $ V43 : int  485 478 454 448 469 467\n",
      " $ V44 : int  508 493 486 464 481 510\n",
      " $ V45 : int  517 472 459 487 543 458\n",
      " $ V46 : int  489 461 493 484 499 430\n",
      " $ V47 : int  507 521 472 509 464 528\n",
      " $ V48 : int  515 521 455 464 497 491\n",
      " $ V49 : int  440 499 460 529 429 464\n",
      " $ V50 : int  465 458 449 465 499 511\n",
      " $ V51 : int  550 466 493 550 523 516\n",
      " $ V52 : int  532 519 562 420 527 548\n",
      " $ V53 : int  450 487 454 500 508 463\n",
      " $ V54 : int  483 485 486 482 480 478\n",
      " $ V55 : int  460 489 468 495 457 558\n",
      " $ V56 : int  469 485 525 478 493 502\n",
      " $ V57 : int  507 551 524 477 539 441\n",
      " $ V58 : int  485 516 487 489 474 491\n",
      " $ V59 : int  479 435 531 586 497 550\n",
      " $ V60 : int  458 487 475 505 483 496\n",
      " $ V61 : int  516 525 479 485 483 495\n",
      " $ V62 : int  480 481 486 484 487 481\n",
      " $ V63 : int  460 529 449 531 443 541\n",
      " $ V64 : int  479 486 478 479 492 466\n",
      " $ V65 : int  648 488 485 415 387 348\n",
      " $ V66 : int  480 513 504 507 536 582\n",
      " $ V67 : int  561 415 564 478 542 491\n",
      " $ V68 : int  481 463 468 485 489 481\n",
      " $ V69 : int  474 481 482 478 484 480\n",
      " $ V70 : int  474 481 475 474 481 479\n",
      " $ V71 : int  544 491 548 574 527 416\n",
      " $ V72 : int  484 504 508 486 472 490\n",
      " $ V73 : int  490 496 488 410 510 459\n",
      " $ V74 : int  451 433 542 501 523 516\n",
      " $ V75 : int  494 475 475 469 488 470\n",
      " $ V76 : int  480 416 527 534 482 461\n",
      " $ V77 : int  486 481 466 483 481 484\n",
      " $ V78 : int  459 482 424 468 487 454\n",
      " $ V79 : int  521 493 486 475 510 532\n",
      " $ V80 : int  500 536 450 499 479 481\n",
      " $ V81 : int  466 483 531 489 516 486\n",
      " $ V82 : int  457 416 542 565 499 430\n",
      " $ V83 : int  494 553 467 500 544 526\n",
      " $ V84 : int  492 460 459 490 492 491\n",
      " $ V85 : int  488 554 523 482 474 427\n",
      " $ V86 : int  497 447 516 419 477 471\n",
      " $ V87 : int  477 477 478 484 483 484\n",
      " $ V88 : int  461 499 492 500 493 506\n",
      " $ V89 : int  473 470 475 476 470 483\n",
      " $ V90 : int  464 527 477 505 571 491\n",
      " $ V91 : int  476 476 476 476 477 476\n",
      " $ V92 : int  471 480 545 495 489 467\n",
      " $ V93 : int  481 507 506 473 534 483\n",
      " $ V94 : int  507 522 492 499 505 487\n",
      " $ V95 : int  474 474 483 472 476 492\n",
      " $ V96 : int  500 485 500 482 508 449\n",
      " $ V97 : int  481 478 476 480 484 491\n",
      " $ V98 : int  536 479 473 488 496 478\n",
      " $ V99 : int  464 468 494 466 496 490\n",
      "  [list output truncated]\n"
     ]
    }
   ],
   "source": [
    "# Data Types\n",
    "str(data)"
   ]
  },
  {
   "cell_type": "code",
   "execution_count": 38,
   "metadata": {},
   "outputs": [],
   "source": [
    "# Summary Statistics (for column)\n",
    "dataMean <- apply(data, 2, mean)\n",
    "dataMedian <- apply(data, 2, median)\n",
    "dataSD <- apply(data, 2, sd)"
   ]
  },
  {
   "cell_type": "code",
   "execution_count": 45,
   "metadata": {},
   "outputs": [
    {
     "data": {
      "image/png": "[encoded data removed]",
      "text/plain": [
       "Plot with title “Histogram of dataMean”"
      ]
     },
     "metadata": {},
     "output_type": "display_data"
    },
    {
     "data": {
      "image/png": "[encoded data removed]",
      "text/plain": [
       "Plot with title “Histogram of dataMedian”"
      ]
     },
     "metadata": {},
     "output_type": "display_data"
    }
   ],
   "source": [
    "# Plots\n",
    "hist(dataMean)\n",
    "hist(dataMedian)"
   ]
  },
  {
   "cell_type": "code",
   "execution_count": null,
   "metadata": {},
   "outputs": [],
   "source": []
  }
 ],
 "metadata": {
  "kernelspec": {
   "display_name": "R",
   "language": "R",
   "name": "ir"
  },
  "language_info": {
   "codemirror_mode": "r",
   "file_extension": ".r",
   "mimetype": "text/x-r-source",
   "name": "R",
   "pygments_lexer": "r",
   "version": "3.3.2"
  }
 },
 "nbformat": 4,
 "nbformat_minor": 2
}
